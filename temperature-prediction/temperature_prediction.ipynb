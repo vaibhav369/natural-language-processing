{
 "cells": [
  {
   "cell_type": "code",
   "execution_count": 2,
   "metadata": {
    "colab": {
     "base_uri": "https://localhost:8080/",
     "height": 70
    },
    "colab_type": "code",
    "executionInfo": {
     "elapsed": 2106,
     "status": "ok",
     "timestamp": 1549104274833,
     "user": {
      "displayName": "Vaibhav Gupta",
      "photoUrl": "",
      "userId": "07285709977412521631"
     },
     "user_tz": -330
    },
    "id": "rH1shwBcy85g",
    "outputId": "a216e611-eca2-43ec-e587-d46626e98ae2"
   },
   "outputs": [
    {
     "name": "stdout",
     "output_type": "stream",
     "text": [
      "Header: ['\"Date Time\"', '\"p (mbar)\"', '\"T (degC)\"', '\"Tpot (K)\"', '\"Tdew (degC)\"', '\"rh (%)\"', '\"VPmax (mbar)\"', '\"VPact (mbar)\"', '\"VPdef (mbar)\"', '\"sh (g/kg)\"', '\"H2OC (mmol/mol)\"', '\"rho (g/m**3)\"', '\"wv (m/s)\"', '\"max. wv (m/s)\"', '\"wd (deg)\"']\n",
      "Number of records in data: 420551\n"
     ]
    }
   ],
   "source": [
    "import os\n",
    "\n",
    "data_dir = 'data'\n",
    "filename = 'jena_climate_2009_2016.csv'\n",
    "\n",
    "with open( os.path.join(data_dir, filename), 'r' ) as f:\n",
    "  data = f.read()\n",
    "  \n",
    "lines = data.split('\\n')\n",
    "header = lines[0].split(',')\n",
    "lines = lines[1:]\n",
    "\n",
    "print('Header: {}'.format(header))\n",
    "print('Number of records in data: {}'.format(len(lines)))"
   ]
  },
  {
   "cell_type": "code",
   "execution_count": 3,
   "metadata": {
    "colab": {},
    "colab_type": "code",
    "id": "xu2KDHcsz1Td"
   },
   "outputs": [],
   "source": [
    "import numpy as np\n",
    "\n",
    "data = np.zeros( (len(lines), len(header)-1) )\n",
    "for i, line in enumerate(lines):\n",
    "  values = [float(x) for x in line.split(',')[1:]]\n",
    "  data[i, :] = values"
   ]
  },
  {
   "cell_type": "code",
   "execution_count": 4,
   "metadata": {
    "colab": {
     "base_uri": "https://localhost:8080/",
     "height": 294
    },
    "colab_type": "code",
    "executionInfo": {
     "elapsed": 2038,
     "status": "ok",
     "timestamp": 1549105449696,
     "user": {
      "displayName": "Vaibhav Gupta",
      "photoUrl": "",
      "userId": "07285709977412521631"
     },
     "user_tz": -330
    },
    "id": "Fn456u-w3VMd",
    "outputId": "404ad2f8-0538-472a-f632-cc4753f88f7c"
   },
   "outputs": [
    {
     "data": {
      "image/png": "[encoded data removed]",
      "text/plain": [
       "<Figure size 432x288 with 1 Axes>"
      ]
     },
     "metadata": {},
     "output_type": "display_data"
    }
   ],
   "source": [
    "import matplotlib.pyplot as plt\n",
    "%matplotlib inline\n",
    "\n",
    "num_records = len(lines)\n",
    "temp = data[:, 1]\n",
    "\n",
    "fig = plt.figure()\n",
    "ax = fig.add_subplot(111)\n",
    "ax.plot( range(num_records), temp )\n",
    "ax.set_title('Tempereture w.r.t Time')\n",
    "ax.set_xlabel('Time')\n",
    "ax.set_ylabel('Temp')\n",
    "\n",
    "plt.show()"
   ]
  },
  {
   "cell_type": "code",
   "execution_count": 5,
   "metadata": {
    "colab": {},
    "colab_type": "code",
    "id": "nCRS2zRv4Aac"
   },
   "outputs": [],
   "source": [
    "data = data - data.mean(axis=0)\n",
    "data = data / data.std(axis=0)"
   ]
  },
  {
   "cell_type": "code",
   "execution_count": 6,
   "metadata": {
    "colab": {},
    "colab_type": "code",
    "id": "Ljwc3hkVDMqC"
   },
   "outputs": [],
   "source": [
    "def generator(data, lookback, delay, min_index, max_index, shuffle=False, \n",
    "              batch_size=128, step=6):\n",
    "  if max_index is None:\n",
    "    max_index = len(data) - delay - 1\n",
    "  i = min_index + lookback\n",
    "  \n",
    "  while True:\n",
    "    if shuffle:\n",
    "      rows = np.random.randint(min_index+lookback, max_index, size=batch_size)\n",
    "    else:\n",
    "      if i + batch_size >= max_index:\n",
    "        i = min_index + lookback\n",
    "      rows = np.arange(i, min(i+batch_size, max_index))\n",
    "      i += len(rows)\n",
    "      \n",
    "    samples = np.zeros( (len(rows), lookback//step, data.shape[-1]) )\n",
    "    targets = np.zeros( (len(rows), ) )\n",
    "    \n",
    "    for j, row in enumerate(rows):\n",
    "      indices = range(rows[j]-lookback, rows[j], step)\n",
    "      samples[j] = data[indices]\n",
    "      targets[j] = data[rows[j] + delay][1]\n",
    "    yield samples, targets"
   ]
  },
  {
   "cell_type": "code",
   "execution_count": 7,
   "metadata": {
    "colab": {},
    "colab_type": "code",
    "id": "zCP_FSqyS8l3"
   },
   "outputs": [],
   "source": [
    "lookback = 1440\n",
    "step = 6\n",
    "delay = 144\n",
    "batch_size = 128"
   ]
  },
  {
   "cell_type": "code",
   "execution_count": 8,
   "metadata": {
    "colab": {},
    "colab_type": "code",
    "id": "ixInIb--TERI"
   },
   "outputs": [],
   "source": [
    "train_gen = generator(data, lookback=lookback, delay=delay, min_index=0,\n",
    "                      max_index=200000, shuffle=True, step=step, batch_size=batch_size)\n",
    "\n",
    "valid_gen = generator(data, lookback=lookback, delay=delay, min_index=200001, \n",
    "                     max_index=300000, shuffle=True, step=step, batch_size=batch_size)\n",
    "\n",
    "test_gen = generator(data, lookback=lookback, delay=delay, min_index=300001, \n",
    "                    max_index=None, shuffle=False, step=step, batch_size=batch_size)"
   ]
  },
  {
   "cell_type": "markdown",
   "metadata": {
    "colab_type": "text",
    "id": "5fh4xAWcXYF2"
   },
   "source": [
    "Establishing a baseline, compared to which the deep learning models will be implemented"
   ]
  },
  {
   "cell_type": "code",
   "execution_count": null,
   "metadata": {
    "colab": {
     "base_uri": "https://localhost:8080/",
     "height": 34
    },
    "colab_type": "code",
    "executionInfo": {
     "elapsed": 742106,
     "status": "ok",
     "timestamp": 1549114770632,
     "user": {
      "displayName": "Vaibhav Gupta",
      "photoUrl": "",
      "userId": "07285709977412521631"
     },
     "user_tz": -330
    },
    "id": "l7yVV9BEUA9I",
    "outputId": "4ea1f2e3-0800-4816-a8f2-593d38ffe1f9"
   },
   "outputs": [],
   "source": [
    "# Predicting temp 24 hours later to be the same as today's temperature\n",
    "\n",
    "val_steps = (300000 - 200001 - lookback)\n",
    "test_steps = (len(data) - 300001 - lookback)\n",
    "\n",
    "def evaluate_naive_method():\n",
    "  mean_absolute_errors = []\n",
    "  for step in range(val_steps):\n",
    "    samples, targets = next(valid_gen)\n",
    "    predictions = samples[:, -1, 1]\n",
    "    mae = np.mean( np.abs(predictions - targets) )\n",
    "    mean_absolute_errors.append(mae)\n",
    "    \n",
    "  print(np.mean( mean_absolute_errors ))\n",
    "  \n",
    "evaluate_naive_method()"
   ]
  },
  {
   "cell_type": "code",
   "execution_count": 36,
   "metadata": {
    "colab": {
     "base_uri": "https://localhost:8080/",
     "height": 286
    },
    "colab_type": "code",
    "executionInfo": {
     "elapsed": 893,
     "status": "ok",
     "timestamp": 1549135776939,
     "user": {
      "displayName": "Vaibhav Gupta",
      "photoUrl": "",
      "userId": "07285709977412521631"
     },
     "user_tz": -330
    },
    "id": "WH46cYc5ZDFf",
    "outputId": "a366222c-96c4-4551-85cc-26bbd0cf8d5d"
   },
   "outputs": [
    {
     "name": "stdout",
     "output_type": "stream",
     "text": [
      "_________________________________________________________________\n",
      "Layer (type)                 Output Shape              Param #   \n",
      "=================================================================\n",
      "flatten_3 (Flatten)          (None, 3360)              0         \n",
      "_________________________________________________________________\n",
      "dense_10 (Dense)             (None, 32)                107552    \n",
      "_________________________________________________________________\n",
      "dense_11 (Dense)             (None, 32)                1056      \n",
      "_________________________________________________________________\n",
      "dense_12 (Dense)             (None, 1)                 33        \n",
      "=================================================================\n",
      "Total params: 108,641\n",
      "Trainable params: 108,641\n",
      "Non-trainable params: 0\n",
      "_________________________________________________________________\n",
      "None\n"
     ]
    }
   ],
   "source": [
    "# Using simple densely connected feed-forward neural net\n",
    "from keras.models import Sequential\n",
    "from keras.layers import Dense, Flatten\n",
    "\n",
    "model = Sequential()\n",
    "model.add( Flatten( input_shape=(lookback // step, data.shape[-1]) ) )\n",
    "model.add( Dense(32, activation='relu') )\n",
    "model.add( Dense(32, activation='relu') )\n",
    "model.add( Dense(1) )\n",
    "print(model.summary())\n",
    "\n",
    "model.compile(optimizer='rmsprop', loss='mae')"
   ]
  },
  {
   "cell_type": "code",
   "execution_count": 37,
   "metadata": {
    "colab": {
     "base_uri": "https://localhost:8080/",
     "height": 689
    },
    "colab_type": "code",
    "executionInfo": {
     "elapsed": 525490,
     "status": "ok",
     "timestamp": 1549136308039,
     "user": {
      "displayName": "Vaibhav Gupta",
      "photoUrl": "",
      "userId": "07285709977412521631"
     },
     "user_tz": -330
    },
    "id": "sXl9e-7suuHA",
    "outputId": "c4fa552a-b700-485a-dfbf-8a7e7e95d1ab"
   },
   "outputs": [
    {
     "name": "stdout",
     "output_type": "stream",
     "text": [
      "Epoch 1/20\n",
      "1000/1000 [==============================] - 27s 27ms/step - loss: 0.4230 - val_loss: 0.3647\n",
      "Epoch 2/20\n",
      "1000/1000 [==============================] - 27s 27ms/step - loss: 0.3145 - val_loss: 0.3706\n",
      "Epoch 3/20\n",
      "1000/1000 [==============================] - 26s 26ms/step - loss: 0.2868 - val_loss: 0.3742\n",
      "Epoch 4/20\n",
      "1000/1000 [==============================] - 26s 26ms/step - loss: 0.2679 - val_loss: 0.4197\n",
      "Epoch 5/20\n",
      "1000/1000 [==============================] - 27s 27ms/step - loss: 0.2541 - val_loss: 0.3871\n",
      "Epoch 6/20\n",
      "1000/1000 [==============================] - 26s 26ms/step - loss: 0.2432 - val_loss: 0.3736\n",
      "Epoch 7/20\n",
      "1000/1000 [==============================] - 26s 26ms/step - loss: 0.2341 - val_loss: 0.3776\n",
      "Epoch 8/20\n",
      "1000/1000 [==============================] - 26s 26ms/step - loss: 0.2279 - val_loss: 0.3802\n",
      "Epoch 9/20\n",
      "1000/1000 [==============================] - 26s 26ms/step - loss: 0.2217 - val_loss: 0.3941\n",
      "Epoch 10/20\n",
      "1000/1000 [==============================] - 26s 26ms/step - loss: 0.2146 - val_loss: 0.4136\n",
      "Epoch 11/20\n",
      "1000/1000 [==============================] - 26s 26ms/step - loss: 0.2096 - val_loss: 0.3903\n",
      "Epoch 12/20\n",
      "1000/1000 [==============================] - 27s 27ms/step - loss: 0.2041 - val_loss: 0.3638\n",
      "Epoch 13/20\n",
      "1000/1000 [==============================] - 26s 26ms/step - loss: 0.2007 - val_loss: 0.3923\n",
      "Epoch 14/20\n",
      "1000/1000 [==============================] - 26s 26ms/step - loss: 0.1977 - val_loss: 0.3752\n",
      "Epoch 15/20\n",
      "1000/1000 [==============================] - 26s 26ms/step - loss: 0.1921 - val_loss: 0.3943\n",
      "Epoch 16/20\n",
      "1000/1000 [==============================] - 26s 26ms/step - loss: 0.1866 - val_loss: 0.3776\n",
      "Epoch 17/20\n",
      "1000/1000 [==============================] - 27s 27ms/step - loss: 0.1835 - val_loss: 0.3804\n",
      "Epoch 18/20\n",
      "1000/1000 [==============================] - 26s 26ms/step - loss: 0.1808 - val_loss: 0.4059\n",
      "Epoch 19/20\n",
      "1000/1000 [==============================] - 26s 26ms/step - loss: 0.1781 - val_loss: 0.3855\n",
      "Epoch 20/20\n",
      "1000/1000 [==============================] - 26s 26ms/step - loss: 0.1737 - val_loss: 0.3808\n"
     ]
    }
   ],
   "source": [
    "history = model.fit_generator(train_gen, steps_per_epoch=1000, epochs=20,\n",
    "                              validation_data=valid_gen, validation_steps=1000)"
   ]
  },
  {
   "cell_type": "code",
   "execution_count": 0,
   "metadata": {
    "colab": {},
    "colab_type": "code",
    "id": "zIPeGeGsvP7w"
   },
   "outputs": [],
   "source": [
    "filename = 'temperature_prediction_feedforward.h5'\n",
    "\n",
    "models_dir = 'models'\n",
    "if not os.path.join(models_dir):\n",
    "    os.mkdir(models_dir)\n",
    "model.save_weights( filename )"
   ]
  },
  {
   "cell_type": "code",
   "execution_count": 39,
   "metadata": {
    "colab": {
     "base_uri": "https://localhost:8080/",
     "height": 294
    },
    "colab_type": "code",
    "executionInfo": {
     "elapsed": 2382,
     "status": "ok",
     "timestamp": 1549136884042,
     "user": {
      "displayName": "Vaibhav Gupta",
      "photoUrl": "",
      "userId": "07285709977412521631"
     },
     "user_tz": -330
    },
    "id": "3f2maaqFwPYs",
    "outputId": "3f51fc56-8670-4b8a-80d4-8bc66cc0e588"
   },
   "outputs": [
    {
     "data": {
      "image/png": "[encoded data removed]",
      "text/plain": [
       "<Figure size 432x288 with 1 Axes>"
      ]
     },
     "metadata": {
      "tags": []
     },
     "output_type": "display_data"
    }
   ],
   "source": [
    "import matplotlib.pyplot as plt\n",
    "%matplotlib inline\n",
    "\n",
    "fig = plt.figure()\n",
    "ax = fig.add_subplot(111)\n",
    "\n",
    "num_epochs = len(history.history['loss'])\n",
    "ax.scatter( range(num_epochs), history.history['loss'], label='Training Loss' )\n",
    "ax.plot( range(num_epochs), history.history['val_loss'], label='Validation Loss' )\n",
    "ax.legend()\n",
    "ax.set_title('Loss v/s Training Epochs (Feedforward Net)')\n",
    "ax.set_xlabel('Epochs')\n",
    "ax.set_ylabel('Loss')\n",
    "\n",
    "results_dir = 'results'\n",
    "if not os.path.exists(results_dir):\n",
    "    os.mkdir(results_dir)\n",
    "filename = 'temperature_prediction_feedforwardnet.png'\n",
    "\n",
    "fig.savefig( os.path.join(results_dir, filename) )\n",
    "fig.show()"
   ]
  },
  {
   "cell_type": "code",
   "execution_count": 0,
   "metadata": {
    "colab": {},
    "colab_type": "code",
    "id": "a0V4E4Ip49_5"
   },
   "outputs": [],
   "source": [
    "from keras.layers import GRU\n",
    "\n",
    "model = Sequential()\n",
    "model.add( GRU(32, input_shape=(None, data.shape[-1])) )\n",
    "model.add( Dense(1) )\n",
    "\n",
    "model.compile(optimizer='rmsprop', loss='mae')"
   ]
  },
  {
   "cell_type": "code",
   "execution_count": 29,
   "metadata": {
    "colab": {
     "base_uri": "https://localhost:8080/",
     "height": 689
    },
    "colab_type": "code",
    "executionInfo": {
     "elapsed": 4060530,
     "status": "ok",
     "timestamp": 1549128196936,
     "user": {
      "displayName": "Vaibhav Gupta",
      "photoUrl": "",
      "userId": "07285709977412521631"
     },
     "user_tz": -330
    },
    "id": "KA8P3K1q_SN1",
    "outputId": "9a12f834-a860-4b97-d342-eedc267e0fd5"
   },
   "outputs": [
    {
     "name": "stdout",
     "output_type": "stream",
     "text": [
      "Epoch 1/20\n",
      "1000/1000 [==============================] - 205s 205ms/step - loss: 0.3114 - val_loss: 0.2815\n",
      "Epoch 2/20\n",
      "1000/1000 [==============================] - 203s 203ms/step - loss: 0.2911 - val_loss: 0.2796\n",
      "Epoch 3/20\n",
      "1000/1000 [==============================] - 203s 203ms/step - loss: 0.2793 - val_loss: 0.2811\n",
      "Epoch 4/20\n",
      "1000/1000 [==============================] - 203s 203ms/step - loss: 0.2696 - val_loss: 0.2896\n",
      "Epoch 5/20\n",
      "1000/1000 [==============================] - 203s 203ms/step - loss: 0.2595 - val_loss: 0.3010\n",
      "Epoch 6/20\n",
      "1000/1000 [==============================] - 203s 203ms/step - loss: 0.2500 - val_loss: 0.2969\n",
      "Epoch 7/20\n",
      "1000/1000 [==============================] - 202s 202ms/step - loss: 0.2431 - val_loss: 0.2983\n",
      "Epoch 8/20\n",
      "1000/1000 [==============================] - 202s 202ms/step - loss: 0.2363 - val_loss: 0.3060\n",
      "Epoch 9/20\n",
      "1000/1000 [==============================] - 203s 203ms/step - loss: 0.2304 - val_loss: 0.3127\n",
      "Epoch 10/20\n",
      "1000/1000 [==============================] - 203s 203ms/step - loss: 0.2256 - val_loss: 0.3144\n",
      "Epoch 11/20\n",
      "1000/1000 [==============================] - 203s 203ms/step - loss: 0.2218 - val_loss: 0.3229\n",
      "Epoch 12/20\n",
      "1000/1000 [==============================] - 203s 203ms/step - loss: 0.2170 - val_loss: 0.3263\n",
      "Epoch 13/20\n",
      "1000/1000 [==============================] - 202s 202ms/step - loss: 0.2134 - val_loss: 0.3284\n",
      "Epoch 14/20\n",
      "1000/1000 [==============================] - 203s 203ms/step - loss: 0.2082 - val_loss: 0.3290\n",
      "Epoch 15/20\n",
      "1000/1000 [==============================] - 202s 202ms/step - loss: 0.2052 - val_loss: 0.3266\n",
      "Epoch 16/20\n",
      "1000/1000 [==============================] - 202s 202ms/step - loss: 0.2029 - val_loss: 0.3347\n",
      "Epoch 17/20\n",
      "1000/1000 [==============================] - 203s 203ms/step - loss: 0.1994 - val_loss: 0.3290\n",
      "Epoch 18/20\n",
      "1000/1000 [==============================] - 203s 203ms/step - loss: 0.1962 - val_loss: 0.3363\n",
      "Epoch 19/20\n",
      "1000/1000 [==============================] - 204s 204ms/step - loss: 0.1950 - val_loss: 0.3373\n",
      "Epoch 20/20\n",
      "1000/1000 [==============================] - 204s 204ms/step - loss: 0.1919 - val_loss: 0.3402\n"
     ]
    }
   ],
   "source": [
    "history = model.fit_generator(train_gen, steps_per_epoch=1000, epochs=20, \n",
    "                              validation_data=valid_gen, validation_steps=1000)"
   ]
  },
  {
   "cell_type": "code",
   "execution_count": 0,
   "metadata": {
    "colab": {},
    "colab_type": "code",
    "id": "ml1AFrxD_m1f"
   },
   "outputs": [],
   "source": [
    "filename = 'temperature_prediction_GRU.h5'\n",
    "model.save_weights( os.path.join(models_dir, filename) )"
   ]
  },
  {
   "cell_type": "code",
   "execution_count": 33,
   "metadata": {
    "colab": {
     "base_uri": "https://localhost:8080/",
     "height": 294
    },
    "colab_type": "code",
    "executionInfo": {
     "elapsed": 1082,
     "status": "ok",
     "timestamp": 1549128841428,
     "user": {
      "displayName": "Vaibhav Gupta",
      "photoUrl": "",
      "userId": "07285709977412521631"
     },
     "user_tz": -330
    },
    "id": "pIsTRriTQGSj",
    "outputId": "57a64c58-9042-4321-c6d4-d7f9394f67ec"
   },
   "outputs": [
    {
     "data": {
      "image/png": "[encoded data removed]",
      "text/plain": [
       "<Figure size 432x288 with 1 Axes>"
      ]
     },
     "metadata": {
      "tags": []
     },
     "output_type": "display_data"
    }
   ],
   "source": [
    "fig = plt.figure()\n",
    "ax = fig.add_subplot(111)\n",
    "\n",
    "num_epochs = len(history.history['loss'])\n",
    "ax.scatter( range(num_epochs), history.history['loss'], label='Training Loss' )\n",
    "ax.plot( range(num_epochs), history.history['val_loss'], label='Validation Loss' )\n",
    "ax.legend()\n",
    "ax.set_title('Loss v/s Training Epochs (Recurrent Layers)')\n",
    "ax.set_xlabel('Epochs')\n",
    "ax.set_ylabel('Loss')\n",
    "\n",
    "results_dir = 'results'\n",
    "filename = 'temperature_prediction_GRUs.png'\n",
    "\n",
    "fig.savefig( os.path.join(results_dir, filename) )\n",
    "fig.show()"
   ]
  },
  {
   "cell_type": "code",
   "execution_count": 32,
   "metadata": {
    "colab": {
     "base_uri": "https://localhost:8080/",
     "height": 218
    },
    "colab_type": "code",
    "executionInfo": {
     "elapsed": 1039,
     "status": "ok",
     "timestamp": 1549128724813,
     "user": {
      "displayName": "Vaibhav Gupta",
      "photoUrl": "",
      "userId": "07285709977412521631"
     },
     "user_tz": -330
    },
    "id": "0Ot4WRciQKSz",
    "outputId": "23a97ea6-ce0a-4149-e9d9-82e8985a8962"
   },
   "outputs": [
    {
     "name": "stdout",
     "output_type": "stream",
     "text": [
      "_________________________________________________________________\n",
      "Layer (type)                 Output Shape              Param #   \n",
      "=================================================================\n",
      "gru_3 (GRU)                  (None, 32)                4512      \n",
      "_________________________________________________________________\n",
      "dense_9 (Dense)              (None, 1)                 33        \n",
      "=================================================================\n",
      "Total params: 4,545\n",
      "Trainable params: 4,545\n",
      "Non-trainable params: 0\n",
      "_________________________________________________________________\n",
      "None\n"
     ]
    }
   ],
   "source": [
    "# Since we are clearly observing overfitting, we should try dropout\n",
    "model = Sequential()\n",
    "\n",
    "model.add( GRU(32, dropout=0.2, recurrent_dropout=0.2, \n",
    "               input_shape=(None, data.shape[-1])) )\n",
    "model.add( Dense(1) )\n",
    "print(model.summary())\n",
    "\n",
    "model.compile(optimizer='rmsprop', loss='mae')"
   ]
  },
  {
   "cell_type": "code",
   "execution_count": 34,
   "metadata": {
    "colab": {
     "base_uri": "https://localhost:8080/",
     "height": 1361
    },
    "colab_type": "code",
    "executionInfo": {
     "elapsed": 4707353,
     "status": "ok",
     "timestamp": 1549133616387,
     "user": {
      "displayName": "Vaibhav Gupta",
      "photoUrl": "",
      "userId": "07285709977412521631"
     },
     "user_tz": -330
    },
    "id": "MINCQI8QRGys",
    "outputId": "33043130-6877-4e38-b65b-c1be6c81f86a"
   },
   "outputs": [
    {
     "name": "stdout",
     "output_type": "stream",
     "text": [
      "Epoch 1/40\n",
      "500/500 [==============================] - 119s 238ms/step - loss: 0.3516 - val_loss: 0.2882\n",
      "Epoch 2/40\n",
      "500/500 [==============================] - 118s 237ms/step - loss: 0.3305 - val_loss: 0.2880\n",
      "Epoch 3/40\n",
      "500/500 [==============================] - 118s 236ms/step - loss: 0.3263 - val_loss: 0.2832\n",
      "Epoch 4/40\n",
      "500/500 [==============================] - 118s 235ms/step - loss: 0.3202 - val_loss: 0.2871\n",
      "Epoch 5/40\n",
      "500/500 [==============================] - 118s 237ms/step - loss: 0.3180 - val_loss: 0.2863\n",
      "Epoch 6/40\n",
      "500/500 [==============================] - 118s 236ms/step - loss: 0.3153 - val_loss: 0.2780\n",
      "Epoch 7/40\n",
      "500/500 [==============================] - 118s 236ms/step - loss: 0.3139 - val_loss: 0.2787\n",
      "Epoch 8/40\n",
      "500/500 [==============================] - 117s 235ms/step - loss: 0.3096 - val_loss: 0.2828\n",
      "Epoch 9/40\n",
      "500/500 [==============================] - 118s 235ms/step - loss: 0.3098 - val_loss: 0.2805\n",
      "Epoch 10/40\n",
      "500/500 [==============================] - 118s 236ms/step - loss: 0.3065 - val_loss: 0.2829\n",
      "Epoch 11/40\n",
      "500/500 [==============================] - 117s 234ms/step - loss: 0.3074 - val_loss: 0.2825\n",
      "Epoch 12/40\n",
      "500/500 [==============================] - 117s 235ms/step - loss: 0.3068 - val_loss: 0.2780\n",
      "Epoch 13/40\n",
      "500/500 [==============================] - 117s 234ms/step - loss: 0.3052 - val_loss: 0.2867\n",
      "Epoch 14/40\n",
      "500/500 [==============================] - 117s 234ms/step - loss: 0.3019 - val_loss: 0.2780\n",
      "Epoch 15/40\n",
      "500/500 [==============================] - 118s 236ms/step - loss: 0.3017 - val_loss: 0.2755\n",
      "Epoch 16/40\n",
      "500/500 [==============================] - 117s 235ms/step - loss: 0.3004 - val_loss: 0.2876\n",
      "Epoch 17/40\n",
      "500/500 [==============================] - 118s 235ms/step - loss: 0.2993 - val_loss: 0.2797\n",
      "Epoch 18/40\n",
      "500/500 [==============================] - 117s 235ms/step - loss: 0.2969 - val_loss: 0.2800\n",
      "Epoch 19/40\n",
      "500/500 [==============================] - 118s 235ms/step - loss: 0.2968 - val_loss: 0.2833\n",
      "Epoch 20/40\n",
      "500/500 [==============================] - 118s 236ms/step - loss: 0.2963 - val_loss: 0.2775\n",
      "Epoch 21/40\n",
      "500/500 [==============================] - 117s 235ms/step - loss: 0.2948 - val_loss: 0.2817\n",
      "Epoch 22/40\n",
      "500/500 [==============================] - 118s 235ms/step - loss: 0.2953 - val_loss: 0.2798\n",
      "Epoch 23/40\n",
      "500/500 [==============================] - 118s 235ms/step - loss: 0.2921 - val_loss: 0.2799\n",
      "Epoch 24/40\n",
      "500/500 [==============================] - 117s 235ms/step - loss: 0.2925 - val_loss: 0.2808\n",
      "Epoch 25/40\n",
      "500/500 [==============================] - 117s 234ms/step - loss: 0.2940 - val_loss: 0.2808\n",
      "Epoch 26/40\n",
      "500/500 [==============================] - 118s 235ms/step - loss: 0.2917 - val_loss: 0.2869\n",
      "Epoch 27/40\n",
      "500/500 [==============================] - 117s 235ms/step - loss: 0.2897 - val_loss: 0.2812\n",
      "Epoch 28/40\n",
      "500/500 [==============================] - 118s 235ms/step - loss: 0.2912 - val_loss: 0.2835\n",
      "Epoch 29/40\n",
      "500/500 [==============================] - 117s 235ms/step - loss: 0.2901 - val_loss: 0.2817\n",
      "Epoch 30/40\n",
      "500/500 [==============================] - 117s 234ms/step - loss: 0.2898 - val_loss: 0.2772\n",
      "Epoch 31/40\n",
      "500/500 [==============================] - 117s 235ms/step - loss: 0.2880 - val_loss: 0.2792\n",
      "Epoch 32/40\n",
      "500/500 [==============================] - 117s 234ms/step - loss: 0.2885 - val_loss: 0.2789\n",
      "Epoch 33/40\n",
      "500/500 [==============================] - 117s 234ms/step - loss: 0.2895 - val_loss: 0.2819\n",
      "Epoch 34/40\n",
      "500/500 [==============================] - 117s 235ms/step - loss: 0.2870 - val_loss: 0.2783\n",
      "Epoch 35/40\n",
      "500/500 [==============================] - 117s 235ms/step - loss: 0.2848 - val_loss: 0.2792\n",
      "Epoch 36/40\n",
      "500/500 [==============================] - 118s 236ms/step - loss: 0.2859 - val_loss: 0.2783\n",
      "Epoch 37/40\n",
      "500/500 [==============================] - 118s 236ms/step - loss: 0.2877 - val_loss: 0.2768\n",
      "Epoch 38/40\n",
      "500/500 [==============================] - 118s 237ms/step - loss: 0.2840 - val_loss: 0.2781\n",
      "Epoch 39/40\n",
      "500/500 [==============================] - 118s 236ms/step - loss: 0.2845 - val_loss: 0.2837\n",
      "Epoch 40/40\n",
      "500/500 [==============================] - 118s 236ms/step - loss: 0.2838 - val_loss: 0.2928\n"
     ]
    }
   ],
   "source": [
    "history = model.fit_generator(train_gen, steps_per_epoch=500, epochs=40,\n",
    "                              validation_data=valid_gen, validation_steps=500)\n",
    "\n",
    "filename = 'temperature_prediction_GRUs_dropout.h5'\n",
    "model.save_weights( os.path.join(models_dir, filename) )"
   ]
  },
  {
   "cell_type": "code",
   "execution_count": 35,
   "metadata": {
    "colab": {
     "base_uri": "https://localhost:8080/",
     "height": 294
    },
    "colab_type": "code",
    "executionInfo": {
     "elapsed": 1464,
     "status": "ok",
     "timestamp": 1549135496842,
     "user": {
      "displayName": "Vaibhav Gupta",
      "photoUrl": "",
      "userId": "07285709977412521631"
     },
     "user_tz": -330
    },
    "id": "2YKi44OTR0BS",
    "outputId": "48e3198e-d6b9-414d-c71e-01ccb1d51cda"
   },
   "outputs": [
    {
     "data": {
      "image/png": "[encoded data removed]",
      "text/plain": [
       "<Figure size 432x288 with 1 Axes>"
      ]
     },
     "metadata": {
      "tags": []
     },
     "output_type": "display_data"
    }
   ],
   "source": [
    "fig = plt.figure()\n",
    "ax = fig.add_subplot(111)\n",
    "\n",
    "num_epochs = len(history.history['loss'])\n",
    "ax.scatter( range(num_epochs), history.history['loss'], label='Training Loss' )\n",
    "ax.plot( range(num_epochs), history.history['val_loss'], label='Validation Loss' )\n",
    "ax.legend()\n",
    "ax.set_title('Loss v/s Training Epochs (Recurrent Layers with Dropout)')\n",
    "ax.set_xlabel('Epochs')\n",
    "ax.set_ylabel('Loss')\n",
    "\n",
    "results_dir = 'results'\n",
    "filename = 'temperature_prediction_GRUs_with_dropout.png'\n",
    "\n",
    "fig.savefig( os.path.join(results_dir, filename) )\n",
    "fig.show()"
   ]
  },
  {
   "cell_type": "code",
   "execution_count": 0,
   "metadata": {
    "colab": {},
    "colab_type": "code",
    "id": "AmFeTv4yq7_5"
   },
   "outputs": [],
   "source": []
  }
 ],
 "metadata": {
  "colab": {
   "name": "temperature_prediction.ipynb",
   "provenance": [],
   "version": "0.3.2"
  },
  "kernelspec": {
   "display_name": "Python 3",
   "language": "python",
   "name": "python3"
  },
  "language_info": {
   "codemirror_mode": {
    "name": "ipython",
    "version": 3
   },
   "file_extension": ".py",
   "mimetype": "text/x-python",
   "name": "python",
   "nbconvert_exporter": "python",
   "pygments_lexer": "ipython3",
   "version": "3.5.4"
  }
 },
 "nbformat": 4,
 "nbformat_minor": 1
}
